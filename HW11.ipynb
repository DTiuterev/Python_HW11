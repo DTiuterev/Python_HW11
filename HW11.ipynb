{
 "cells": [
  {
   "cell_type": "markdown",
   "id": "4172c684",
   "metadata": {},
   "source": [
    "## Дана функция 5x^3 - x^2 - 20x + 4\n",
    "1. Определить корни\n",
    "2. Найти интервалы, на которых функция возрастает\n",
    "3. Найти интервалы, на которых функция убывает\n",
    "4. Построить график\n",
    "5. Вычислить вершину\n",
    "6. Определить промежутки, на котором f > 0\n",
    "7. Определить промежутки, на котором f < 0"
   ]
  },
  {
   "cell_type": "code",
   "execution_count": 1,
   "id": "5399b6e5",
   "metadata": {},
   "outputs": [],
   "source": [
    "import numpy as np\n",
    "import sympy as sp\n",
    "from sympy import solve\n",
    "from sympy import *\n",
    "import matplotlib.pyplot as plt"
   ]
  },
  {
   "cell_type": "code",
   "execution_count": 2,
   "id": "1c5d6237",
   "metadata": {},
   "outputs": [],
   "source": [
    "x = Symbol('x')\n",
    "y = 5 * x ** 3 - x ** 2 - 20 * x + 4"
   ]
  },
  {
   "cell_type": "markdown",
   "id": "9b7f7442",
   "metadata": {},
   "source": [
    "1. Определить корни."
   ]
  },
  {
   "cell_type": "markdown",
   "id": "1fa2fd2d",
   "metadata": {},
   "source": [
    "1.1. С использованием библиотеки numpy."
   ]
  },
  {
   "cell_type": "code",
   "execution_count": 3,
   "id": "2fda5f1d",
   "metadata": {},
   "outputs": [
    {
     "data": {
      "text/plain": [
       "array([-2.19165507,  1.78744079,  0.20421429])"
      ]
     },
     "execution_count": 3,
     "metadata": {},
     "output_type": "execute_result"
    }
   ],
   "source": [
    "np.roots([5, 1, -20, 4])"
   ]
  },
  {
   "cell_type": "markdown",
   "id": "f116dc35",
   "metadata": {},
   "source": [
    "1.2. C помощью библиотеки sympy."
   ]
  },
  {
   "cell_type": "code",
   "execution_count": 4,
   "id": "9e6431ca",
   "metadata": {},
   "outputs": [
    {
     "data": {
      "text/plain": [
       "[-2, 1/5, 2]"
      ]
     },
     "execution_count": 4,
     "metadata": {},
     "output_type": "execute_result"
    }
   ],
   "source": [
    "solve(y)"
   ]
  },
  {
   "cell_type": "markdown",
   "id": "c105427b",
   "metadata": {},
   "source": [
    "Вычисление корней с помощью sympy дало корректный результат, подстановка подтверждает правильность найденных корней.\n",
    "Приблизительность вычислений с помощью numpy настораживает."
   ]
  },
  {
   "cell_type": "markdown",
   "id": "84f1aa83",
   "metadata": {},
   "source": [
    "2. Найти интервалы, на которых функция возрастает."
   ]
  },
  {
   "cell_type": "markdown",
   "id": "7183a0e8",
   "metadata": {},
   "source": [
    "Находим производную функции."
   ]
  },
  {
   "cell_type": "code",
   "execution_count": 5,
   "id": "bd780ad4",
   "metadata": {},
   "outputs": [
    {
     "data": {
      "text/latex": [
       "$\\displaystyle 15 x^{2} - 2 x - 20$"
      ],
      "text/plain": [
       "15*x**2 - 2*x - 20"
      ]
     },
     "execution_count": 5,
     "metadata": {},
     "output_type": "execute_result"
    }
   ],
   "source": [
    "df = diff(y)\n",
    "df"
   ]
  },
  {
   "cell_type": "markdown",
   "id": "4faf3b50",
   "metadata": {},
   "source": [
    "Находим корни производной."
   ]
  },
  {
   "cell_type": "code",
   "execution_count": 6,
   "id": "a26b00bd",
   "metadata": {},
   "outputs": [
    {
     "data": {
      "text/plain": [
       "(-1.0899567715264982, 1.2232901048598315)"
      ]
     },
     "execution_count": 6,
     "metadata": {},
     "output_type": "execute_result"
    }
   ],
   "source": [
    "df_roots = solve(df)\n",
    "float(df_roots[0]), float(df_roots[1])"
   ]
  },
  {
   "cell_type": "markdown",
   "id": "c7cc61c5",
   "metadata": {},
   "source": [
    "Находим интервалы возрастания функции (производная > 0)."
   ]
  },
  {
   "cell_type": "code",
   "execution_count": 7,
   "id": "01b6ccd4",
   "metadata": {},
   "outputs": [
    {
     "data": {
      "text/latex": [
       "$\\displaystyle \\left(-\\infty < x \\wedge x < \\frac{1}{15} - \\frac{\\sqrt{301}}{15}\\right) \\vee \\left(x < \\infty \\wedge \\frac{1}{15} + \\frac{\\sqrt{301}}{15} < x\\right)$"
      ],
      "text/plain": [
       "((-oo < x) & (x < 1/15 - sqrt(301)/15)) | ((x < oo) & (1/15 + sqrt(301)/15 < x))"
      ]
     },
     "execution_count": 7,
     "metadata": {},
     "output_type": "execute_result"
    }
   ],
   "source": [
    "solve(df>0)"
   ]
  },
  {
   "cell_type": "markdown",
   "id": "475fba7c",
   "metadata": {},
   "source": [
    "3. Найти интервалы, на которых функция убывает.\n"
   ]
  },
  {
   "cell_type": "markdown",
   "id": "7d8a4968",
   "metadata": {},
   "source": [
    "Находим интервалы убывания функции (производная < 0)."
   ]
  },
  {
   "cell_type": "code",
   "execution_count": 8,
   "id": "0746558d",
   "metadata": {},
   "outputs": [
    {
     "data": {
      "text/latex": [
       "$\\displaystyle x < \\frac{1}{15} + \\frac{\\sqrt{301}}{15} \\wedge \\frac{1}{15} - \\frac{\\sqrt{301}}{15} < x$"
      ],
      "text/plain": [
       "(x < 1/15 + sqrt(301)/15) & (1/15 - sqrt(301)/15 < x)"
      ]
     },
     "execution_count": 8,
     "metadata": {},
     "output_type": "execute_result"
    }
   ],
   "source": [
    "solve(df < 0)"
   ]
  },
  {
   "cell_type": "markdown",
   "id": "c58ac850",
   "metadata": {},
   "source": [
    "4. Построить график."
   ]
  },
  {
   "cell_type": "code",
   "execution_count": 9,
   "id": "5af5f51d",
   "metadata": {},
   "outputs": [
    {
     "data": {
      "text/plain": [
       "<function matplotlib.pyplot.show(close=None, block=None)>"
      ]
     },
     "execution_count": 9,
     "metadata": {},
     "output_type": "execute_result"
    },
    {
     "data": {
      "image/png": "[encoded data removed]",
      "text/plain": [
       "<Figure size 640x480 with 1 Axes>"
      ]
     },
     "metadata": {},
     "output_type": "display_data"
    }
   ],
   "source": [
    "x = list(range(-3, 4))\n",
    "fx = [5*i**3 - i**2 - 20*i + 4 for i in x]\n",
    "plt.plot(x, fx)\n",
    "ax = plt.gca()\n",
    "ax.spines['left'].set_position('zero')\n",
    "ax.spines['bottom'].set_position('zero')\n",
    "plt.show"
   ]
  },
  {
   "cell_type": "markdown",
   "id": "b7a8c01f",
   "metadata": {},
   "source": [
    "5. Вычислить вершину. У кубической функции их две - точка локального максимума и точка локального минимума."
   ]
  },
  {
   "cell_type": "code",
   "execution_count": 10,
   "id": "6d6a0509",
   "metadata": {},
   "outputs": [],
   "source": [
    "coef = [5, 1, -20, 4]"
   ]
  },
  {
   "cell_type": "code",
   "execution_count": 11,
   "id": "c2ae7c31",
   "metadata": {},
   "outputs": [
    {
     "data": {
      "text/plain": [
       "(-1.0899567715264982, 1.2232901048598315)"
      ]
     },
     "execution_count": 11,
     "metadata": {},
     "output_type": "execute_result"
    }
   ],
   "source": [
    "x_max_point = df_roots[0]\n",
    "x_min_point = df_roots[1]\n",
    "float(x_max_point), float(x_min_point)"
   ]
  },
  {
   "cell_type": "code",
   "execution_count": 12,
   "id": "8360f387",
   "metadata": {},
   "outputs": [
    {
     "data": {
      "text/plain": [
       "20.512766560014086"
      ]
     },
     "execution_count": 12,
     "metadata": {},
     "output_type": "execute_result"
    }
   ],
   "source": [
    "y_max_point = np.polyval(coef, x_max_point)\n",
    "float(y_max_point)"
   ]
  },
  {
   "cell_type": "code",
   "execution_count": 13,
   "id": "d92e4b07",
   "metadata": {},
   "outputs": [
    {
     "data": {
      "text/plain": [
       "-9.816470263717791"
      ]
     },
     "execution_count": 13,
     "metadata": {},
     "output_type": "execute_result"
    }
   ],
   "source": [
    "y_min_point = np.polyval(coef, x_min_point)\n",
    "float(y_min_point)"
   ]
  },
  {
   "cell_type": "markdown",
   "id": "82c5964e",
   "metadata": {},
   "source": [
    "6. Определить промежутки, на которых f > 0."
   ]
  },
  {
   "cell_type": "code",
   "execution_count": 14,
   "id": "64a2a1b2",
   "metadata": {},
   "outputs": [
    {
     "data": {
      "text/latex": [
       "$\\displaystyle \\left(-2 < x \\wedge x < \\frac{1}{5}\\right) \\vee \\left(2 < x \\wedge x < \\infty\\right)$"
      ],
      "text/plain": [
       "((-2 < x) & (x < 1/5)) | ((2 < x) & (x < oo))"
      ]
     },
     "execution_count": 14,
     "metadata": {},
     "output_type": "execute_result"
    }
   ],
   "source": [
    "solve(y>0)"
   ]
  },
  {
   "cell_type": "markdown",
   "id": "bdd825c8",
   "metadata": {},
   "source": [
    "7. Определить промежутки, на которых f < 0."
   ]
  },
  {
   "cell_type": "code",
   "execution_count": 15,
   "id": "10dbf13f",
   "metadata": {},
   "outputs": [
    {
     "data": {
      "text/latex": [
       "$\\displaystyle \\left(-\\infty < x \\wedge x < -2\\right) \\vee \\left(\\frac{1}{5} < x \\wedge x < 2\\right)$"
      ],
      "text/plain": [
       "((-oo < x) & (x < -2)) | ((1/5 < x) & (x < 2))"
      ]
     },
     "execution_count": 15,
     "metadata": {},
     "output_type": "execute_result"
    }
   ],
   "source": [
    "solve(y<0)"
   ]
  },
  {
   "cell_type": "markdown",
   "id": "c126e16c",
   "metadata": {},
   "source": [
    "8. Определить точку перегиба функции."
   ]
  },
  {
   "cell_type": "markdown",
   "id": "02ca8315",
   "metadata": {},
   "source": [
    "Точка перегиба - точка, в которой вторая производная функции равна 0."
   ]
  },
  {
   "cell_type": "code",
   "execution_count": 16,
   "id": "f91d8ad5",
   "metadata": {},
   "outputs": [
    {
     "data": {
      "text/latex": [
       "$\\displaystyle 30 x - 2$"
      ],
      "text/plain": [
       "30*x - 2"
      ]
     },
     "execution_count": 16,
     "metadata": {},
     "output_type": "execute_result"
    }
   ],
   "source": [
    "ddf = diff(df)\n",
    "ddf"
   ]
  },
  {
   "cell_type": "code",
   "execution_count": 17,
   "id": "4817d3f0",
   "metadata": {},
   "outputs": [
    {
     "data": {
      "text/plain": [
       "[1/15]"
      ]
     },
     "execution_count": 17,
     "metadata": {},
     "output_type": "execute_result"
    }
   ],
   "source": [
    "ddf_root = solve(ddf)\n",
    "x_point = ddf_root\n",
    "x_point"
   ]
  },
  {
   "cell_type": "code",
   "execution_count": 18,
   "id": "50e8a400",
   "metadata": {},
   "outputs": [
    {
     "data": {
      "text/plain": [
       "2.6725925925925926"
      ]
     },
     "execution_count": 18,
     "metadata": {},
     "output_type": "execute_result"
    }
   ],
   "source": [
    "x_point = ddf_root\n",
    "y_point = np.polyval(coef, x_point)\n",
    "float(y_point)"
   ]
  }
 ],
 "metadata": {
  "kernelspec": {
   "display_name": "Python 3 (ipykernel)",
   "language": "python",
   "name": "python3"
  },
  "language_info": {
   "codemirror_mode": {
    "name": "ipython",
    "version": 3
   },
   "file_extension": ".py",
   "mimetype": "text/x-python",
   "name": "python",
   "nbconvert_exporter": "python",
   "pygments_lexer": "ipython3",
   "version": "3.9.13"
  }
 },
 "nbformat": 4,
 "nbformat_minor": 5
}
